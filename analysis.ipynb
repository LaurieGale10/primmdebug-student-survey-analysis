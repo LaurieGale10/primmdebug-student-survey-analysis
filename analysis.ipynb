{
 "cells": [
  {
   "cell_type": "markdown",
   "metadata": {},
   "source": [
    "# PRIMMDebug Student Survey Analysis\n",
    "\n",
    "This notebook contains a narrative of the code used to analyse the responses from the student survey taken after usage of PRIMMDebug. The goal of the survey was to understand students' perspectives towards PRIMMDebug, which could be triangulated with their actions within the PRIMMDebug tool.\n",
    "\n",
    "The analysis is split up into X sections:\n",
    "1. Summary statistics across the whole dataset.\n",
    "2. Establishing of variables we're looking to measure\n",
    "3. Factor analysis\n",
    "4. An appendix of visualisations for each individual question response.\n",
    "\n",
    "First, let us import the necessary libraries and data."
   ]
  },
  {
   "cell_type": "code",
   "execution_count": null,
   "metadata": {
    "vscode": {
     "languageId": "plaintext"
    }
   },
   "outputs": [],
   "source": [
    "library(ltm)\n",
    "\n",
    "survey_response_data <- read.table(\"pilot_survey_responses.csv\", header=TRUE, sep=\",\")\n",
    "all_quant_responses <- names(survey_response_data)[sapply(survey_response_data, is.numeric)]"
   ]
  },
  {
   "cell_type": "markdown",
   "metadata": {},
   "source": [
    "## 1. Summary Statistics\n",
    "We first report on overall statistics of the survey to give context to the responses."
   ]
  },
  {
   "cell_type": "code",
   "execution_count": null,
   "metadata": {
    "vscode": {
     "languageId": "plaintext"
    }
   },
   "outputs": [],
   "source": [
    "print(\"Number of student respondents: \")\n",
    "\n",
    "print(f\"- Gender split (self-reported):\")\n",
    "print(f\"- Year group split (self-reported):\")\n",
    "print(f\"- Number of students per school:\")"
   ]
  },
  {
   "cell_type": "markdown",
   "metadata": {},
   "source": [
    "## 2. Establishment of Variables\n",
    "\n",
    "We group the survey responses into some groups based on the content of the survey items:\n",
    "- **Usability**: The usability of programs, borrowing items from the (System Usability Scale)[https://en.wikipedia.org/wiki/System_usability_scale].\n",
    "- **Utility: Restrictive Factors**: Perceived utility of the parts of the PRIMMDebug tool that restricted students' \"programming autonomy\".\n",
    "- **Utility: PRIMMDebug Challenges**: Perceived utility of the PRIMMDebug challenges they attempted.\n",
    "- **Utility: SIFFT**: Perceived utility of the SIFFT process that teachers taught for debugging.\n",
    "\n",
    "Each of these have several Likert scale response questions associated with them. The internal consistency of each of these items, as well as all of the Likert scale responses, is now mapped."
   ]
  },
  {
   "cell_type": "code",
   "execution_count": null,
   "metadata": {
    "vscode": {
     "languageId": "plaintext"
    }
   },
   "outputs": [],
   "source": [
    "internal_consistency <- function(columns) {\n",
    "    #'Calculates the internal consistency of a set of columns in a dataframe\n",
    "    #' @param columns A vector of column names to calculate the internal consistency of\n",
    "    return(cronbach.alpha(survey_response_data[, columns], na.rm = TRUE))\n",
    "}\n",
    "\n",
    "primmdebug_usability_questions <- c(\"Q1_1\",\"Q1_2\",\"Q1_3\",\"Q1_4\",\"Q1_5\")\n",
    "restrictive_factors_questions <- c()\n",
    "primmdebug_challenge_questions <- c()\n",
    "sifft_questions <- c()\n",
    "sifft_utility_questions <- c(\"Pilot3\",\"Q4\",\"Q5\")\n",
    "\n",
    "print(internal_consistency(all_quant_responses))\n",
    "print(internal_consistency(primmdebug_usability_questions))\n",
    "print(internal_consistency(primmdebug_utility_questions))\n",
    "print(internal_consistency(sifft_utility_questions))"
   ]
  },
  {
   "cell_type": "markdown",
   "metadata": {},
   "source": [
    "## 3. Factor Analysis\n",
    "Each of these factors is now confirmed and their relationship modelled with confirmatory factor analysis\n",
    "\n",
    "*Are these attributes suitable for factor analysis?*\n",
    "*If not, could I do exploratory --> confirmatory factor analysis?*"
   ]
  },
  {
   "cell_type": "code",
   "execution_count": null,
   "metadata": {
    "vscode": {
     "languageId": "plaintext"
    }
   },
   "outputs": [],
   "source": []
  },
  {
   "cell_type": "markdown",
   "metadata": {},
   "source": [
    "## 4. Correlation Between Variables\n",
    "Can I perform correlation between self-created factors rather than individual Likert scale response items? How do I go about doing this if so?\n",
    "\n"
   ]
  },
  {
   "cell_type": "code",
   "execution_count": null,
   "metadata": {
    "vscode": {
     "languageId": "plaintext"
    }
   },
   "outputs": [],
   "source": []
  },
  {
   "cell_type": "markdown",
   "metadata": {},
   "source": [
    "## 5. Visualisation of Individual Questions\n",
    "We now provide some basic plots of the responses to individual Likert response items for comprehensiveness. Each question contains information on:\n",
    "- The normality of the distribution.\n",
    "- The skewness and kurtosis of the distribution."
   ]
  },
  {
   "cell_type": "code",
   "execution_count": null,
   "metadata": {
    "vscode": {
     "languageId": "plaintext"
    }
   },
   "outputs": [],
   "source": []
  }
 ],
 "metadata": {
  "language_info": {
   "name": "python"
  }
 },
 "nbformat": 4,
 "nbformat_minor": 2
}
